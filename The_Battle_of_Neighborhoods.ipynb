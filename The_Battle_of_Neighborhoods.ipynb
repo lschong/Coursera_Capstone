{
    "nbformat_minor": 2, 
    "cells": [
        {
            "source": "<a href=\"https://cognitiveclass.ai\"><img src = \"https://ibm.box.com/shared/static/9gegpsmnsoo25ikkbl4qzlvlyjbgxs5x.png\" width = 400> </a>\n\n<h1 align=center><font size = 5>The Battle of the Neighbourhoods</font></h1>", 
            "cell_type": "markdown", 
            "metadata": {}
        }, 
        {
            "source": "## Instructions\n\n\nNow that you have been equipped with the skills and the tools to use location data to explore a geographical location, over the course of two weeks, you will have the opportunity to be as creative as you want and come up with an idea to leverage the Foursquare location data to explore or compare neighborhoods or cities of your choice or to come up with a problem that you can use the Foursquare location data to solve. If you cannot think of an idea or a problem, here are some ideas to get you started:\n\n1. In Module 3, we explored New York City and the city of Toronto and segmented and clustered their neighborhoods. Both cities are very diverse and are the financial capitals of their respective countries. One interesting idea would be to compare the neighborhoods of the two cities and determine how similar or dissimilar they are. Is New York City more like Toronto or Paris or some other multicultural city? I will leave it to you to refine this idea.\n2. In a city of your choice, if someone is looking to open a restaurant, where would you recommend that they open it? Similarly, if a contractor is trying to start their own business, where would you recommend that they setup their office?\n\nThese are just a couple of many ideas and problems that can be solved using location data in addition to other datasets. No matter what you decide to do, make sure to provide sufficient justification of why you think what you want to do or solve is important and why would a client or a group of people be interested in your project.\n\n#### Review criteria\nThis capstone project will be graded by your peers. This capstone project is worth 70% of your total grade. The project will be completed over the course of 2 weeks. Week 1 submissions will be worth 30% whereas week 2 submissions will be worth 40% of your total grade.\n\nFor this week, you will required to submit the following:\n\n1. A description of the problem and a discussion of the background. (15 marks)\n2. A description of the data and how it will be used to solve the problem. (15 marks)\n\nFor the second week, the final deliverables of the project will be:\n\n1. A link to your Notebook on your Github repository, showing your code. (15 marks)\n2. A full report consisting of all of the following components (15 marks):\n - Introduction where you discuss the business problem and who would be interested in this project.\n - Data where you describe the data that will be used to solve the problem and the source of the data.\n - Methodology section which represents the main component of the report where you discuss and describe any exploratory data analysis that you did, any inferential statistical testing that you performed, and what machine learnings were used and why.\n - Results section where you discuss the results.\n - Discussion section where you discuss any observations you noted and any recommendations you can make based on the results.\n - Conclusion section where you conclude the report.\n3. Your choice of a presentation or blogpost. (10 marks)\n\nClearly define a problem or an idea of your choice, where you would need to leverage the Foursquare location data to solve or execute. Remember that data science problems always target an audience and are meant to help a group of stakeholders solve a problem, so make sure that you explicitly describe your audience and why they would care about your problem.\n\nThis submission will eventually become your Introduction/Business Problem section in your final report. So I recommend that you push the report (having your Introduction/Business Problem section only for now) to your Github repository and submit a link to it.\n\nDescribe the data that you will be using to solve the problem or execute your idea. Remember that you will need to use the Foursquare location data to solve the problem or execute your idea. You can absolutely use other datasets in combination with the Foursquare location data. So make sure that you provide adequate explanation and discussion, with examples, of the data that you will be using, even if it is only Foursquare location data.\n\nThis submission will eventually become your Data section in your final report. So I recommend that you push the report (having your Data section) to your Github repository and submit a link to it.\n\n\n\n\n", 
            "cell_type": "markdown", 
            "metadata": {}
        }, 
        {
            "source": "## Table of Contents\n\n<div class=\"alert alert-block alert-info\" style=\"margin-top: 20px\">\n\n<font size = 3>\n\n1. <a href=\"#item1\">Introduction</a>\n\n2. <a href=\"#item2\">Data</a>\n\n3. <a href=\"#item3\">Methodology</a>\n\n4. <a href=\"#item4\">Results</a>\n\n5. <a href=\"#item5\">Discussion</a>    \n\n6. <a href=\"#item6\">Conclusion</a>    \n</font>\n</div>", 
            "cell_type": "markdown", 
            "metadata": {}
        }, 
        {
            "source": "<a id='item1'></a>", 
            "cell_type": "markdown", 
            "metadata": {}
        }, 
        {
            "source": "## Introduction/Business Problem (Week 1 & 2)\nA description of the problem and a discussion of the background.  Discuss the business problem and who would be interested in this project.", 
            "cell_type": "markdown", 
            "metadata": {}
        }, 
        {
            "source": "NYC is a multi-ethic melting pot. The NYC food scene is vibrant, diverse and constantly changing. Restaurants change menu like the seasons. For someone new to NYC and homesick, it is difficult to find which neighbourhood will offer cuisine which is closest to home. Hence our target audience are people who are new to NYC and would like to find the neighbourhood with the most familiar food or most similar food compared to their home city, and also help foodies discover new neighbourhood cuisines.", 
            "cell_type": "markdown", 
            "metadata": {}
        }, 
        {
            "source": "<a id='item2'></a>", 
            "cell_type": "markdown", 
            "metadata": {}
        }, 
        {
            "source": "## Data (Week 1 & 2)\nA description of the data and how it will be used to solve the problem.  Describe the data that will be used to solve the problem and the source of the data.", 
            "cell_type": "markdown", 
            "metadata": {}
        }, 
        {
            "source": "We plan to leverage on Foursquare restaurant data as well as its menu data to identify neighbourhoods with most similar cuisine as our source city. From the list of neighbourhoods, we would extract the list of well-rated restaurants within a certain promixity to the center of the neighbourhood.  From the list of restaurants, we would then extract the restaurant menus from Foursquare using the premium calls. We would also extract the same information from the home city. We would then use that data to identify which NYC neighbourhood cuisine has the greatest similarity with the home city.\n\nGiven the Foursquare limits on premium calls, depending on the size of the restaurant list, we might been to stagger calls over several days and save the results to CSV.", 
            "cell_type": "markdown", 
            "metadata": {}
        }, 
        {
            "source": "<a id='item3'></a>", 
            "cell_type": "markdown", 
            "metadata": {}
        }, 
        {
            "source": "## Methodology (Week 2)", 
            "cell_type": "markdown", 
            "metadata": {}
        }, 
        {
            "execution_count": null, 
            "cell_type": "code", 
            "metadata": {}, 
            "outputs": [], 
            "source": ""
        }, 
        {
            "source": "<a id='item4'></a>", 
            "cell_type": "markdown", 
            "metadata": {}
        }, 
        {
            "source": "## Results (Week 2)", 
            "cell_type": "markdown", 
            "metadata": {}
        }, 
        {
            "execution_count": null, 
            "cell_type": "code", 
            "metadata": {}, 
            "outputs": [], 
            "source": ""
        }, 
        {
            "source": "<a id='item5'></a>", 
            "cell_type": "markdown", 
            "metadata": {}
        }, 
        {
            "source": "## Discussion (Week 2)", 
            "cell_type": "markdown", 
            "metadata": {}
        }, 
        {
            "execution_count": null, 
            "cell_type": "code", 
            "metadata": {}, 
            "outputs": [], 
            "source": ""
        }, 
        {
            "source": "<a id='item6'></a>", 
            "cell_type": "markdown", 
            "metadata": {}
        }, 
        {
            "source": "## Conclusion (Week 2)", 
            "cell_type": "markdown", 
            "metadata": {}
        }, 
        {
            "execution_count": null, 
            "cell_type": "code", 
            "metadata": {}, 
            "outputs": [], 
            "source": ""
        }, 
        {
            "execution_count": null, 
            "cell_type": "code", 
            "metadata": {}, 
            "outputs": [], 
            "source": ""
        }, 
        {
            "execution_count": null, 
            "cell_type": "code", 
            "metadata": {}, 
            "outputs": [], 
            "source": ""
        }, 
        {
            "execution_count": null, 
            "cell_type": "code", 
            "metadata": {}, 
            "outputs": [], 
            "source": ""
        }, 
        {
            "execution_count": null, 
            "cell_type": "code", 
            "metadata": {}, 
            "outputs": [], 
            "source": ""
        }, 
        {
            "source": "# * PLEASE IGNORE ALL CELLS BELOW * ", 
            "cell_type": "markdown", 
            "metadata": {}
        }, 
        {
            "source": "In this lab, you will learn how to convert addresses into their equivalent latitude and longitude values. Also, you will use the Foursquare API to explore neighborhoods in New York City. You will use the **explore** function to get the most common venue categories in each neighborhood, and then use this feature to group the neighborhoods into clusters. You will use the *k*-means clustering algorithm to complete this task. Finally, you will use the Folium library to visualize the neighborhoods in New York City and their emerging clusters.", 
            "cell_type": "markdown", 
            "metadata": {}
        }, 
        {
            "source": "Before we get the data and start exploring it, let's download all the dependencies that we will need.", 
            "cell_type": "markdown", 
            "metadata": {}
        }, 
        {
            "execution_count": 1, 
            "cell_type": "code", 
            "metadata": {}, 
            "outputs": [
                {
                    "output_type": "stream", 
                    "name": "stdout", 
                    "text": "Solving environment: done\n\n# All requested packages already installed.\n\nLibraries imported.\n"
                }
            ], 
            "source": "import numpy as np # library to handle data in a vectorized manner\n\nimport pandas as pd # library for data analsysis\npd.set_option('display.max_columns', None)\npd.set_option('display.max_rows', None)\n\nimport json # library to handle JSON files\n\n#!conda install -c conda-forge geopy --yes # uncomment this line if you haven't completed the Foursquare API lab\nfrom geopy.geocoders import Nominatim # convert an address into latitude and longitude values\n\nimport requests # library to handle requests\nfrom pandas.io.json import json_normalize # tranform JSON file into a pandas dataframe\n\n# Matplotlib and associated plotting modules\nimport matplotlib.cm as cm\nimport matplotlib.colors as colors\n\n# import k-means from clustering stage\nfrom sklearn.cluster import KMeans\n\n!conda install -c conda-forge folium=0.5.0 --yes # uncomment this line if you haven't completed the Foursquare API lab\nimport folium # map rendering library\n\n#!conda install -c conda-forge beautifulsoup4 --yes\nfrom bs4 import BeautifulSoup # to extract information from websites\n\nimport lxml # library to handle xml parsing\nimport requests # library to handle website requests\n\nfrom pathlib import Path\n\nimport os\n\nprint('Libraries imported.')"
        }, 
        {
            "execution_count": 2, 
            "cell_type": "code", 
            "metadata": {}, 
            "outputs": [], 
            "source": "# set number of clusters\nkclusters = 50\n\n# radius of foursquare search\nradius = 750\n\n# limit of foursquare results, max 100\nLIMIT = 100\n"
        }, 
        {
            "source": "## 1. Download and Explore Dataset", 
            "cell_type": "markdown", 
            "metadata": {}
        }, 
        {
            "source": "Neighborhood has a total of 5 boroughs and 306 neighborhoods. In order to segement the neighborhoods and explore them, we will essentially need a dataset that contains the 5 boroughs and the neighborhoods that exist in each borough as well as the the latitude and logitude coordinates of each neighborhood. \n\nLuckily, this dataset exists for free on the web. Feel free to try to find this dataset on your own, but here is the link to the dataset: https://geo.nyu.edu/catalog/nyu_2451_34572", 
            "cell_type": "markdown", 
            "metadata": {}
        }, 
        {
            "source": "For your convenience, I downloaded the files and placed it on the server, so you can simply run a `wget` command and access the data. So let's go ahead and do that.", 
            "cell_type": "markdown", 
            "metadata": {}
        }, 
        {
            "execution_count": 3, 
            "cell_type": "code", 
            "metadata": {}, 
            "outputs": [], 
            "source": "# The code was removed by Watson Studio for sharing."
        }, 
        {
            "execution_count": 4, 
            "cell_type": "code", 
            "metadata": {}, 
            "outputs": [
                {
                    "output_type": "stream", 
                    "name": "stdout", 
                    "text": "Data downloaded!\n"
                }
            ], 
            "source": "!wget -q -O 'newyork_data.json' https://cocl.us/new_york_dataset\nprint('Data downloaded!')"
        }, 
        {
            "source": "Notice how all the relevant data is in the *tbody* key, which is basically a list of the neighborhoods. So, let's define a new variable that includes this data.", 
            "cell_type": "markdown", 
            "metadata": {}
        }, 
        {
            "execution_count": 5, 
            "cell_type": "code", 
            "metadata": {}, 
            "outputs": [], 
            "source": "with open('newyork_data.json') as json_data:\n    newyork_data = json.load(json_data)# split text into list\n"
        }, 
        {
            "execution_count": 6, 
            "cell_type": "code", 
            "metadata": {}, 
            "outputs": [], 
            "source": "neighborhoods_data = newyork_data['features']"
        }, 
        {
            "execution_count": 7, 
            "cell_type": "code", 
            "metadata": {
                "scrolled": false
            }, 
            "outputs": [], 
            "source": "# define the dataframe columns\ncolumn_names = ['Borough', 'Neighborhood', 'Latitude', 'Longitude'] \n\n# instantiate the dataframe\nneighborhoods = pd.DataFrame(columns=column_names)"
        }, 
        {
            "execution_count": 8, 
            "cell_type": "code", 
            "metadata": {}, 
            "outputs": [], 
            "source": "for data in neighborhoods_data:\n    borough = neighborhood_name = data['properties']['borough'] \n    neighborhood_name = data['properties']['name']\n        \n    neighborhood_latlon = data['geometry']['coordinates']\n    neighborhood_lat = neighborhood_latlon[1]\n    neighborhood_lon = neighborhood_latlon[0]\n    \n    neighborhoods = neighborhoods.append({'Borough': borough,\n                                          'Neighborhood': neighborhood_name,\n                                          'Latitude': neighborhood_lat,\n                                          'Longitude': neighborhood_lon}, ignore_index=True)"
        }, 
        {
            "execution_count": 9, 
            "cell_type": "code", 
            "metadata": {}, 
            "outputs": [
                {
                    "output_type": "stream", 
                    "name": "stdout", 
                    "text": "The dataframe has 5 boroughs and 306 neighborhoods.\n"
                }
            ], 
            "source": "print('The dataframe has {} boroughs and {} neighborhoods.'.format(\n        len(neighborhoods['Borough'].unique()),\n        neighborhoods.shape[0]\n    )\n)"
        }, 
        {
            "execution_count": 10, 
            "cell_type": "code", 
            "metadata": {}, 
            "outputs": [
                {
                    "output_type": "stream", 
                    "name": "stdout", 
                    "text": "The geograpical coordinate of New York City, NY are 40.7127281, -74.0060152.\n"
                }
            ], 
            "source": "address = 'New York City, NY'\n\ngeolocator = Nominatim(user_agent=\"ny_explorer\")\nlocation = geolocator.geocode(address)\nlatitude = location.latitude\nlongitude = location.longitude\nprint('The geograpical coordinate of {} are {}, {}.'.format(address, latitude, longitude))"
        }, 
        {
            "execution_count": 11, 
            "cell_type": "code", 
            "metadata": {}, 
            "outputs": [
                {
                    "output_type": "stream", 
                    "name": "stdout", 
                    "text": "Enter city: eg.\"Mumbai, India\"  georgetown, penang, malaysia\nThe geograpical coordinate of georgetown, penang, malaysia are 5.4145681, 100.3298035.\n"
                }, 
                {
                    "execution_count": 11, 
                    "metadata": {}, 
                    "data": {
                        "text/html": "<div style=\"width:100%;\"><div style=\"position:relative;width:100%;height:0;padding-bottom:60%;\"><iframe src=\"data:text/html;charset=utf-8;base64,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\" style=\"position:absolute;width:100%;height:100%;left:0;top:0;border:none !important;\" allowfullscreen webkitallowfullscreen mozallowfullscreen></iframe></div></div>", 
                        "text/plain": "<folium.folium.Map at 0x7fb78b167208>"
                    }, 
                    "output_type": "execute_result"
                }
            ], 
            "source": "target_address = input('Enter city: eg.\"Mumbai, India\"  ')\n\ngeolocator = Nominatim(user_agent=\"ny_explorer\")\ntarget_location = geolocator.geocode(target_address)\ntarget_latitude = target_location.latitude\ntarget_longitude = target_location.longitude\nprint('The geograpical coordinate of {} are {}, {}.'.format(target_address, target_latitude, target_longitude))\n\n# create map of Target City using latitude and longitude values\nmap_targetcity = folium.Map(location=[target_latitude, target_longitude], zoom_start=15)\n\n# add markers to map\nlabel = '{}'.format(target_location)\nlabel = folium.Popup(label, parse_html=True)\nfolium.Circle(\n    [target_latitude, target_longitude],\n    radius=radius,\n    popup=label,\n    color='blue',\n    fill=True,\n    fill_color='#3186cc',\n    fill_opacity=0.7,\n    parse_html=False).add_to(map_targetcity)  \n    \nmap_targetcity"
        }, 
        {
            "execution_count": 12, 
            "cell_type": "code", 
            "metadata": {}, 
            "outputs": [], 
            "source": "#manhattan_data = neighborhoods[neighborhoods['Borough'] == 'Manhattan'].reset_index(drop=True)\nmanhattan_data = neighborhoods\nmanhattan_data = manhattan_data.append({'Borough':target_address, 'Neighborhood':target_address, 'Latitude':target_latitude, 'Longitude':target_longitude}, ignore_index=True)"
        }, 
        {
            "execution_count": 13, 
            "cell_type": "code", 
            "metadata": {}, 
            "outputs": [], 
            "source": "def getNearbyVenues(names, latitudes, longitudes, radius=500):\n    \n    venues_list=[]\n    for name, lat, lng in zip(names, latitudes, longitudes):\n            \n        # create the API request URL\n        url = 'https://api.foursquare.com/v2/venues/explore?section=FOOD&client_id={}&client_secret={}&ll={},{}&v={}&radius={}&limit={}'.format(\n            CLIENT_ID, \n            CLIENT_SECRET, \n            lat, \n            lng, \n            VERSION, \n            radius, \n            LIMIT)\n\n        # make the GET request\n        results = requests.get(url).json()[\"response\"]['groups'][0]['items']\n        \n        # return only relevant information for each nearby venue\n        venues_list.append([(\n            name, \n            lat, \n            lng, \n            v['venue']['name'], \n            v['venue']['categories'][0]['shortName'],\n            v['venue']['id']) for v in results])\n\n    nearby_venues = pd.DataFrame([item for venue_list in venues_list for item in venue_list])\n    nearby_venues.columns = ['Neighborhood', \n                  'Neighborhood Latitude', \n                  'Neighborhood Longitude', \n                  'Venue',\n                  'Venue Category',          \n                  'Venue ID']\n    \n    return(nearby_venues)"
        }, 
        {
            "execution_count": 14, 
            "cell_type": "code", 
            "metadata": {}, 
            "outputs": [], 
            "source": "manhattan_venues = getNearbyVenues(names=manhattan_data['Neighborhood'],\n                                   latitudes=manhattan_data['Latitude'],\n                                   longitudes=manhattan_data['Longitude']\n                                  )"
        }, 
        {
            "execution_count": 15, 
            "cell_type": "code", 
            "metadata": {}, 
            "outputs": [], 
            "source": "# one hot encoding\nonehot = pd.get_dummies(manhattan_venues[['Venue Category']], prefix=\"\", prefix_sep=\"\")\n\n# add neighborhood column back to dataframe\nonehot['Neighborhood'] = manhattan_venues['Neighborhood'] \n\n# move neighborhood column to the first column\nfixed_columns = [onehot.columns[-1]] + list(onehot.columns[:-1])\nonehot = onehot[fixed_columns]\n"
        }, 
        {
            "execution_count": 16, 
            "cell_type": "code", 
            "metadata": {
                "scrolled": true
            }, 
            "outputs": [], 
            "source": "manhattan_grouped = onehot.groupby('Neighborhood').mean().reset_index()"
        }, 
        {
            "execution_count": 17, 
            "cell_type": "code", 
            "metadata": {}, 
            "outputs": [], 
            "source": "def return_most_common_venues(row, num_top_venues):\n    row_categories = row.iloc[1:]\n    row_categories_sorted = row_categories.sort_values(ascending=False)\n    \n    return row_categories_sorted.index.values[0:num_top_venues]"
        }, 
        {
            "execution_count": 18, 
            "cell_type": "code", 
            "metadata": {}, 
            "outputs": [], 
            "source": "num_top_venues = 10\n\nindicators = ['st', 'nd', 'rd']\n\n# create columns according to number of top venues\ncolumns = ['Neighborhood']\nfor ind in np.arange(num_top_venues):\n    try:\n        columns.append('{}{} Most Common Venue'.format(ind+1, indicators[ind]))\n    except:\n        columns.append('{}th Most Common Venue'.format(ind+1))\n\n# create a new dataframe\nneighborhoods_venues_sorted = pd.DataFrame(columns=columns)\nneighborhoods_venues_sorted['Neighborhood'] = manhattan_grouped['Neighborhood']\n\nfor ind in np.arange(manhattan_grouped.shape[0]):\n    neighborhoods_venues_sorted.iloc[ind, 1:] = return_most_common_venues(manhattan_grouped.iloc[ind, :], num_top_venues)\n\n"
        }, 
        {
            "execution_count": 19, 
            "cell_type": "code", 
            "metadata": {}, 
            "outputs": [], 
            "source": "\nmanhattan_grouped_clustering = manhattan_grouped.drop('Neighborhood', 1)\n\n# run k-means clustering\nkmeans = KMeans(n_clusters=kclusters, random_state=0).fit(manhattan_grouped_clustering)\n\n"
        }, 
        {
            "execution_count": 20, 
            "cell_type": "code", 
            "metadata": {}, 
            "outputs": [], 
            "source": "# add clustering labels\nneighborhoods_venues_sorted.insert(0, 'Cluster Labels', kmeans.labels_)\n\nmanhattan_merged = manhattan_data\n\n# merge toronto_grouped with toronto_data to add latitude/longitude for each neighborhood\nmanhattan_merged = manhattan_merged.join(neighborhoods_venues_sorted.set_index('Neighborhood'), on='Neighborhood')\n\n"
        }, 
        {
            "execution_count": 21, 
            "cell_type": "code", 
            "metadata": {}, 
            "outputs": [], 
            "source": "Cluster = manhattan_merged.loc[manhattan_merged['Borough'] == target_address, 'Cluster Labels'].iloc[0]\n\nmanhattan_merged = manhattan_merged.drop(manhattan_merged[manhattan_merged['Cluster Labels'] != Cluster].index)\n"
        }, 
        {
            "execution_count": 22, 
            "cell_type": "code", 
            "metadata": {
                "scrolled": true
            }, 
            "outputs": [
                {
                    "execution_count": 22, 
                    "metadata": {}, 
                    "data": {
                        "text/html": "<div style=\"width:100%;\"><div style=\"position:relative;width:100%;height:0;padding-bottom:60%;\"><iframe src=\"data:text/html;charset=utf-8;base64,PCFET0NUWVBFIGh0bWw+CjxoZWFkPiAgICAKICAgIDxtZXRhIGh0dHAtZXF1aXY9ImNvbnRlbnQtdHlwZSIgY29udGVudD0idGV4dC9odG1sOyBjaGFyc2V0PVVURi04IiAvPgogICAgPHNjcmlwdD5MX1BSRUZFUl9DQU5WQVMgPSBmYWxzZTsgTF9OT19UT1VDSCA9IGZhbHNlOyBMX0RJU0FCTEVfM0QgPSBmYWxzZTs8L3NjcmlwdD4KICAgIDxzY3JpcHQgc3JjPSJodHRwczovL2Nkbi5qc2RlbGl2ci5uZXQvbnBtL2xlYWZsZXRAMS4yLjAvZGlzdC9sZWFmbGV0LmpzIj48L3NjcmlwdD4KICAgIDxzY3JpcHQgc3JjPSJodHRwczovL2FqYXguZ29vZ2xlYXBpcy5jb20vYWpheC9saWJzL2pxdWVyeS8xLjExLjEvanF1ZXJ5Lm1pbi5qcyI+PC9zY3JpcHQ+CiAgICA8c2NyaXB0IHNyYz0iaHR0cHM6Ly9tYXhjZG4uYm9vdHN0cmFwY2RuLmNvbS9ib290c3RyYXAvMy4yLjAvanMvYm9vdHN0cmFwLm1pbi5qcyI+PC9zY3JpcHQ+CiAgICA8c2NyaXB0IHNyYz0iaHR0cHM6Ly9jZG5qcy5jbG91ZGZsYXJlLmNvbS9hamF4L2xpYnMvTGVhZmxldC5hd2Vzb21lLW1hcmtlcnMvMi4wLjIvbGVhZmxldC5hd2Vzb21lLW1hcmtlcnMuanMiPjwvc2NyaXB0PgogICAgPGxpbmsgcmVsPSJzdHlsZXNoZWV0IiBocmVmPSJodHRwczovL2Nkbi5qc2RlbGl2ci5uZXQvbnBtL2xlYWZsZXRAMS4yLjAvZGlzdC9sZWFmbGV0LmNzcyIvPgogICAgPGxpbmsgcmVsPSJzdHlsZXNoZWV0IiBocmVmPSJodHRwczovL21heGNkbi5ib290c3RyYXBjZG4uY29tL2Jvb3RzdHJhcC8zLjIuMC9jc3MvYm9vdHN0cmFwLm1pbi5jc3MiLz4KICAgIDxsaW5rIHJlbD0ic3R5bGVzaGVldCIgaHJlZj0iaHR0cHM6Ly9tYXhjZG4uYm9vdHN0cmFwY2RuLmNvbS9ib290c3RyYXAvMy4yLjAvY3NzL2Jvb3RzdHJhcC10aGVtZS5taW4uY3NzIi8+CiAgICA8bGluayByZWw9InN0eWxlc2hlZXQiIGhyZWY9Imh0dHBzOi8vbWF4Y2RuLmJvb3RzdHJhcGNkbi5jb20vZm9udC1hd2Vzb21lLzQuNi4zL2Nzcy9mb250LWF3ZXNvbWUubWluLmNzcyIvPgogICAgPGxpbmsgcmVsPSJzdHlsZXNoZWV0IiBocmVmPSJodHRwczovL2NkbmpzLmNsb3VkZmxhcmUuY29tL2FqYXgvbGlicy9MZWFmbGV0LmF3ZXNvbWUtbWFya2Vycy8yLjAuMi9sZWFmbGV0LmF3ZXNvbWUtbWFya2Vycy5jc3MiLz4KICAgIDxsaW5rIHJlbD0ic3R5bGVzaGVldCIgaHJlZj0iaHR0cHM6Ly9yYXdnaXQuY29tL3B5dGhvbi12aXN1YWxpemF0aW9uL2ZvbGl1bS9tYXN0ZXIvZm9saXVtL3RlbXBsYXRlcy9sZWFmbGV0LmF3ZXNvbWUucm90YXRlLmNzcyIvPgogICAgPHN0eWxlPmh0bWwsIGJvZHkge3dpZHRoOiAxMDAlO2hlaWdodDogMTAwJTttYXJnaW46IDA7cGFkZGluZzogMDt9PC9zdHlsZT4KICAgIDxzdHlsZT4jbWFwIHtwb3NpdGlvbjphYnNvbHV0ZTt0b3A6MDtib3R0b206MDtyaWdodDowO2xlZnQ6MDt9PC9zdHlsZT4KICAgIAogICAgICAgICAgICA8c3R5bGU+ICNtYXBfZTU0M2I2NTU5NjAwNDY3NmE5YTFkMDVlNmU0ZDc0ZjQgewogICAgICAgICAgICAgICAgcG9zaXRpb24gOiByZWxhdGl2ZTsKICAgICAgICAgICAgICAgIHdpZHRoIDogMTAwLjAlOwogICAgICAgICAgICAgICAgaGVpZ2h0OiAxMDAuMCU7CiAgICAgICAgICAgICAgICBsZWZ0OiAwLjAlOwogICAgICAgICAgICAgICAgdG9wOiAwLjAlOwogICAgICAgICAgICAgICAgfQogICAgICAgICAgICA8L3N0eWxlPgogICAgICAgIAo8L2hlYWQ+Cjxib2R5PiAgICAKICAgIAogICAgICAgICAgICA8ZGl2IGNsYXNzPSJmb2xpdW0tbWFwIiBpZD0ibWFwX2U1NDNiNjU1OTYwMDQ2NzZhOWExZDA1ZTZlNGQ3NGY0IiA+PC9kaXY+CiAgICAgICAgCjwvYm9keT4KPHNjcmlwdD4gICAgCiAgICAKCiAgICAgICAgICAgIAogICAgICAgICAgICAgICAgdmFyIGJvdW5kcyA9IG51bGw7CiAgICAgICAgICAgIAoKICAgICAgICAgICAgdmFyIG1hcF9lNTQzYjY1NTk2MDA0Njc2YTlhMWQwNWU2ZTRkNzRmNCA9IEwubWFwKAogICAgICAgICAgICAgICAgICAgICAgICAgICAgICAgICAgJ21hcF9lNTQzYjY1NTk2MDA0Njc2YTlhMWQwNWU2ZTRkNzRmNCcsCiAgICAgICAgICAgICAgICAgICAgICAgICAgICAgICAgICB7Y2VudGVyOiBbNDAuNzEyNzI4MSwtNzQuMDA2MDE1Ml0sCiAgICAgICAgICAgICAgICAgICAgICAgICAgICAgICAgICB6b29tOiAxMSwKICAgICAgICAgICAgICAgICAgICAgICAgICAgICAgICAgIG1heEJvdW5kczogYm91bmRzLAogICAgICAgICAgICAgICAgICAgICAgICAgICAgICAgICAgbGF5ZXJzOiBbXSwKICAgICAgICAgICAgICAgICAgICAgICAgICAgICAgICAgIHdvcmxkQ29weUp1bXA6IGZhbHNlLAogICAgICAgICAgICAgICAgICAgICAgICAgICAgICAgICAgY3JzOiBMLkNSUy5FUFNHMzg1NwogICAgICAgICAgICAgICAgICAgICAgICAgICAgICAgICB9KTsKICAgICAgICAgICAgCiAgICAgICAgCiAgICAKICAgICAgICAgICAgdmFyIHRpbGVfbGF5ZXJfNjUxMjk3MzRhZjRhNGI5YjhkNmEwYmYyMjFlZmQzMzUgPSBMLnRpbGVMYXllcigKICAgICAgICAgICAgICAgICdodHRwczovL3tzfS50aWxlLm9wZW5zdHJlZXRtYXAub3JnL3t6fS97eH0ve3l9LnBuZycsCiAgICAgICAgICAgICAgICB7CiAgImF0dHJpYnV0aW9uIjogbnVsbCwKICAiZGV0ZWN0UmV0aW5hIjogZmFsc2UsCiAgIm1heFpvb20iOiAxOCwKICAibWluWm9vbSI6IDEsCiAgIm5vV3JhcCI6IGZhbHNlLAogICJzdWJkb21haW5zIjogImFiYyIKfQogICAgICAgICAgICAgICAgKS5hZGRUbyhtYXBfZTU0M2I2NTU5NjAwNDY3NmE5YTFkMDVlNmU0ZDc0ZjQpOwogICAgICAgIAogICAgCgogICAgICAgICAgICB2YXIgY2lyY2xlX2U4NmFmMDEzOWRmYTQ2NThiMGU0ZWExOGM5ZmFmNmE4ID0gTC5jaXJjbGUoCiAgICAgICAgICAgICAgICBbNDAuNjExMDA4OTAyMDIwNDQsLTczLjk5NTE3OTk4MzgwNzI5XSwKICAgICAgICAgICAgICAgIHsKICAiYnViYmxpbmdNb3VzZUV2ZW50cyI6IHRydWUsCiAgImNvbG9yIjogInJlZCIsCiAgImRhc2hBcnJheSI6IG51bGwsCiAgImRhc2hPZmZzZXQiOiBudWxsLAogICJmaWxsIjogdHJ1ZSwKICAiZmlsbENvbG9yIjogIiNmZjZiMzciLAogICJmaWxsT3BhY2l0eSI6IDAuNywKICAiZmlsbFJ1bGUiOiAiZXZlbm9kZCIsCiAgImxpbmVDYXAiOiAicm91bmQiLAogICJsaW5lSm9pbiI6ICJyb3VuZCIsCiAgIm9wYWNpdHkiOiAxLjAsCiAgInJhZGl1cyI6IDc1MCwKICAic3Ryb2tlIjogdHJ1ZSwKICAid2VpZ2h0IjogMwp9CiAgICAgICAgICAgICAgICApLmFkZFRvKG1hcF9lNTQzYjY1NTk2MDA0Njc2YTlhMWQwNWU2ZTRkNzRmNCk7CiAgICAgICAgICAgIAogICAgCiAgICAgICAgICAgIHZhciBwb3B1cF9jNDFhOTIxYjFmNTM0YzU1OTE0NzUxMDMxYjMwYzgxZCA9IEwucG9wdXAoe21heFdpZHRoOiAnMzAwJ30pOwoKICAgICAgICAgICAgCiAgICAgICAgICAgICAgICB2YXIgaHRtbF84NzZiYWI3MDNjYWU0N2ZhYTBmNTlkMDZhMWJmMDQ2OSA9ICQoJzxkaXYgaWQ9Imh0bWxfODc2YmFiNzAzY2FlNDdmYWEwZjU5ZDA2YTFiZjA0NjkiIHN0eWxlPSJ3aWR0aDogMTAwLjAlOyBoZWlnaHQ6IDEwMC4wJTsiPkJlbnNvbmh1cnN0IENsdXN0ZXIgNDQ8L2Rpdj4nKVswXTsKICAgICAgICAgICAgICAgIHBvcHVwX2M0MWE5MjFiMWY1MzRjNTU5MTQ3NTEwMzFiMzBjODFkLnNldENvbnRlbnQoaHRtbF84NzZiYWI3MDNjYWU0N2ZhYTBmNTlkMDZhMWJmMDQ2OSk7CiAgICAgICAgICAgIAoKICAgICAgICAgICAgY2lyY2xlX2U4NmFmMDEzOWRmYTQ2NThiMGU0ZWExOGM5ZmFmNmE4LmJpbmRQb3B1cChwb3B1cF9jNDFhOTIxYjFmNTM0YzU1OTE0NzUxMDMxYjMwYzgxZCk7CgogICAgICAgICAgICAKICAgICAgICAKICAgIAoKICAgICAgICAgICAgdmFyIGNpcmNsZV84ZTg3NjQ1MGRmMDg0NWUxYWJjYjM3MDdlNWNmNzRhOSA9IEwuY2lyY2xlKAogICAgICAgICAgICAgICAgWzQwLjY0MTcxNzc2NjY4OTYxLC03My45MzYxMDI1NjE4NTgzNl0sCiAgICAgICAgICAgICAgICB7CiAgImJ1YmJsaW5nTW91c2VFdmVudHMiOiB0cnVlLAogICJjb2xvciI6ICJyZWQiLAogICJkYXNoQXJyYXkiOiBudWxsLAogICJkYXNoT2Zmc2V0IjogbnVsbCwKICAiZmlsbCI6IHRydWUsCiAgImZpbGxDb2xvciI6ICIjZmY2YjM3IiwKICAiZmlsbE9wYWNpdHkiOiAwLjcsCiAgImZpbGxSdWxlIjogImV2ZW5vZGQiLAogICJsaW5lQ2FwIjogInJvdW5kIiwKICAibGluZUpvaW4iOiAicm91bmQiLAogICJvcGFjaXR5IjogMS4wLAogICJyYWRpdXMiOiA3NTAsCiAgInN0cm9rZSI6IHRydWUsCiAgIndlaWdodCI6IDMKfQogICAgICAgICAgICAgICAgKS5hZGRUbyhtYXBfZTU0M2I2NTU5NjAwNDY3NmE5YTFkMDVlNmU0ZDc0ZjQpOwogICAgICAgICAgICAKICAgIAogICAgICAgICAgICB2YXIgcG9wdXBfNjUxMGQ0NTI3YTc0NDg4ODg4ZDQ4Y2E0YTllYzFlYzcgPSBMLnBvcHVwKHttYXhXaWR0aDogJzMwMCd9KTsKCiAgICAgICAgICAgIAogICAgICAgICAgICAgICAgdmFyIGh0bWxfYmZmMjgyOTM5N2M5NDI4ZWI1ZmIxMTYwYWZmMzJhM2MgPSAkKCc8ZGl2IGlkPSJodG1sX2JmZjI4MjkzOTdjOTQyOGViNWZiMTE2MGFmZjMyYTNjIiBzdHlsZT0id2lkdGg6IDEwMC4wJTsgaGVpZ2h0OiAxMDAuMCU7Ij5FYXN0IEZsYXRidXNoIENsdXN0ZXIgNDQ8L2Rpdj4nKVswXTsKICAgICAgICAgICAgICAgIHBvcHVwXzY1MTBkNDUyN2E3NDQ4ODg4OGQ0OGNhNGE5ZWMxZWM3LnNldENvbnRlbnQoaHRtbF9iZmYyODI5Mzk3Yzk0MjhlYjVmYjExNjBhZmYzMmEzYyk7CiAgICAgICAgICAgIAoKICAgICAgICAgICAgY2lyY2xlXzhlODc2NDUwZGYwODQ1ZTFhYmNiMzcwN2U1Y2Y3NGE5LmJpbmRQb3B1cChwb3B1cF82NTEwZDQ1MjdhNzQ0ODg4ODhkNDhjYTRhOWVjMWVjNyk7CgogICAgICAgICAgICAKICAgICAgICAKICAgIAoKICAgICAgICAgICAgdmFyIGNpcmNsZV9iMGMxNjdlN2ExY2E0MDRmYmU0YzhlOWQ5OWU4YWE2ZiA9IEwuY2lyY2xlKAogICAgICAgICAgICAgICAgWzQwLjcxNTYxODQyMjMxNDMyLC03My45OTQyNzkzNjI1NTk3OF0sCiAgICAgICAgICAgICAgICB7CiAgImJ1YmJsaW5nTW91c2VFdmVudHMiOiB0cnVlLAogICJjb2xvciI6ICJyZWQiLAogICJkYXNoQXJyYXkiOiBudWxsLAogICJkYXNoT2Zmc2V0IjogbnVsbCwKICAiZmlsbCI6IHRydWUsCiAgImZpbGxDb2xvciI6ICIjZmY2YjM3IiwKICAiZmlsbE9wYWNpdHkiOiAwLjcsCiAgImZpbGxSdWxlIjogImV2ZW5vZGQiLAogICJsaW5lQ2FwIjogInJvdW5kIiwKICAibGluZUpvaW4iOiAicm91bmQiLAogICJvcGFjaXR5IjogMS4wLAogICJyYWRpdXMiOiA3NTAsCiAgInN0cm9rZSI6IHRydWUsCiAgIndlaWdodCI6IDMKfQogICAgICAgICAgICAgICAgKS5hZGRUbyhtYXBfZTU0M2I2NTU5NjAwNDY3NmE5YTFkMDVlNmU0ZDc0ZjQpOwogICAgICAgICAgICAKICAgIAogICAgICAgICAgICB2YXIgcG9wdXBfYjY4ZmE2MDQwMWI3NGEyNzk5M2ZjNWIxOGU4OGVjOWYgPSBMLnBvcHVwKHttYXhXaWR0aDogJzMwMCd9KTsKCiAgICAgICAgICAgIAogICAgICAgICAgICAgICAgdmFyIGh0bWxfNTZkNmFmMTgyNmM4NDkxMzk1ZjNiMjQwN2YxMTYxMDggPSAkKCc8ZGl2IGlkPSJodG1sXzU2ZDZhZjE4MjZjODQ5MTM5NWYzYjI0MDdmMTE2MTA4IiBzdHlsZT0id2lkdGg6IDEwMC4wJTsgaGVpZ2h0OiAxMDAuMCU7Ij5DaGluYXRvd24gQ2x1c3RlciA0NDwvZGl2PicpWzBdOwogICAgICAgICAgICAgICAgcG9wdXBfYjY4ZmE2MDQwMWI3NGEyNzk5M2ZjNWIxOGU4OGVjOWYuc2V0Q29udGVudChodG1sXzU2ZDZhZjE4MjZjODQ5MTM5NWYzYjI0MDdmMTE2MTA4KTsKICAgICAgICAgICAgCgogICAgICAgICAgICBjaXJjbGVfYjBjMTY3ZTdhMWNhNDA0ZmJlNGM4ZTlkOTllOGFhNmYuYmluZFBvcHVwKHBvcHVwX2I2OGZhNjA0MDFiNzRhMjc5OTNmYzViMThlODhlYzlmKTsKCiAgICAgICAgICAgIAogICAgICAgIAogICAgCgogICAgICAgICAgICB2YXIgY2lyY2xlXzFhYmFhNGZkNmQ5MzRmNjU5ZGUyMTM5ZTkxMjgzNTczID0gTC5jaXJjbGUoCiAgICAgICAgICAgICAgICBbNDAuNzA1MTc5MDM1NDE0OCwtNzMuODI5ODE5MDU4MjU3MDNdLAogICAgICAgICAgICAgICAgewogICJidWJibGluZ01vdXNlRXZlbnRzIjogdHJ1ZSwKICAiY29sb3IiOiAicmVkIiwKICAiZGFzaEFycmF5IjogbnVsbCwKICAiZGFzaE9mZnNldCI6IG51bGwsCiAgImZpbGwiOiB0cnVlLAogICJmaWxsQ29sb3IiOiAiI2ZmNmIzNyIsCiAgImZpbGxPcGFjaXR5IjogMC43LAogICJmaWxsUnVsZSI6ICJldmVub2RkIiwKICAibGluZUNhcCI6ICJyb3VuZCIsCiAgImxpbmVKb2luIjogInJvdW5kIiwKICAib3BhY2l0eSI6IDEuMCwKICAicmFkaXVzIjogNzUwLAogICJzdHJva2UiOiB0cnVlLAogICJ3ZWlnaHQiOiAzCn0KICAgICAgICAgICAgICAgICkuYWRkVG8obWFwX2U1NDNiNjU1OTYwMDQ2NzZhOWExZDA1ZTZlNGQ3NGY0KTsKICAgICAgICAgICAgCiAgICAKICAgICAgICAgICAgdmFyIHBvcHVwX2EyMzk0OGM3ZTAyMDRkNmY5ZmU4NDdmY2Q2OTcwMmY0ID0gTC5wb3B1cCh7bWF4V2lkdGg6ICczMDAnfSk7CgogICAgICAgICAgICAKICAgICAgICAgICAgICAgIHZhciBodG1sXzBlZGQ1NWM0NWE2ZjRjMmQ4NTc1N2VlNDU0Yzc0MzAyID0gJCgnPGRpdiBpZD0iaHRtbF8wZWRkNTVjNDVhNmY0YzJkODU3NTdlZTQ1NGM3NDMwMiIgc3R5bGU9IndpZHRoOiAxMDAuMCU7IGhlaWdodDogMTAwLjAlOyI+S2V3IEdhcmRlbnMgQ2x1c3RlciA0NDwvZGl2PicpWzBdOwogICAgICAgICAgICAgICAgcG9wdXBfYTIzOTQ4YzdlMDIwNGQ2ZjlmZTg0N2ZjZDY5NzAyZjQuc2V0Q29udGVudChodG1sXzBlZGQ1NWM0NWE2ZjRjMmQ4NTc1N2VlNDU0Yzc0MzAyKTsKICAgICAgICAgICAgCgogICAgICAgICAgICBjaXJjbGVfMWFiYWE0ZmQ2ZDkzNGY2NTlkZTIxMzllOTEyODM1NzMuYmluZFBvcHVwKHBvcHVwX2EyMzk0OGM3ZTAyMDRkNmY5ZmU4NDdmY2Q2OTcwMmY0KTsKCiAgICAgICAgICAgIAogICAgICAgIAogICAgCgogICAgICAgICAgICB2YXIgY2lyY2xlXzJkZmUzZjQ1OTE5YzQ4YzU4MTQwZGVhNDA0YjgzZjJkID0gTC5jaXJjbGUoCiAgICAgICAgICAgICAgICBbNDAuNzI4OTc0MDk0ODA3MzUsLTczLjg1NzgyNjg2OTA1MzddLAogICAgICAgICAgICAgICAgewogICJidWJibGluZ01vdXNlRXZlbnRzIjogdHJ1ZSwKICAiY29sb3IiOiAicmVkIiwKICAiZGFzaEFycmF5IjogbnVsbCwKICAiZGFzaE9mZnNldCI6IG51bGwsCiAgImZpbGwiOiB0cnVlLAogICJmaWxsQ29sb3IiOiAiI2ZmNmIzNyIsCiAgImZpbGxPcGFjaXR5IjogMC43LAogICJmaWxsUnVsZSI6ICJldmVub2RkIiwKICAibGluZUNhcCI6ICJyb3VuZCIsCiAgImxpbmVKb2luIjogInJvdW5kIiwKICAib3BhY2l0eSI6IDEuMCwKICAicmFkaXVzIjogNzUwLAogICJzdHJva2UiOiB0cnVlLAogICJ3ZWlnaHQiOiAzCn0KICAgICAgICAgICAgICAgICkuYWRkVG8obWFwX2U1NDNiNjU1OTYwMDQ2NzZhOWExZDA1ZTZlNGQ3NGY0KTsKICAgICAgICAgICAgCiAgICAKICAgICAgICAgICAgdmFyIHBvcHVwXzY0YzNjNjA0MTM1MjRhZjNiYTRhYThmYzM1N2FjYTA1ID0gTC5wb3B1cCh7bWF4V2lkdGg6ICczMDAnfSk7CgogICAgICAgICAgICAKICAgICAgICAgICAgICAgIHZhciBodG1sXzMyOTlkNGIxMGRlNDRkMTRiYmJmMTM3YjQyNTA3YmNkID0gJCgnPGRpdiBpZD0iaHRtbF8zMjk5ZDRiMTBkZTQ0ZDE0YmJiZjEzN2I0MjUwN2JjZCIgc3R5bGU9IndpZHRoOiAxMDAuMCU7IGhlaWdodDogMTAwLjAlOyI+UmVnbyBQYXJrIENsdXN0ZXIgNDQ8L2Rpdj4nKVswXTsKICAgICAgICAgICAgICAgIHBvcHVwXzY0YzNjNjA0MTM1MjRhZjNiYTRhYThmYzM1N2FjYTA1LnNldENvbnRlbnQoaHRtbF8zMjk5ZDRiMTBkZTQ0ZDE0YmJiZjEzN2I0MjUwN2JjZCk7CiAgICAgICAgICAgIAoKICAgICAgICAgICAgY2lyY2xlXzJkZmUzZjQ1OTE5YzQ4YzU4MTQwZGVhNDA0YjgzZjJkLmJpbmRQb3B1cChwb3B1cF82NGMzYzYwNDEzNTI0YWYzYmE0YWE4ZmMzNTdhY2EwNSk7CgogICAgICAgICAgICAKICAgICAgICAKICAgIAoKICAgICAgICAgICAgdmFyIGNpcmNsZV8wMTg5MWRmZjg3MGI0Mzc3OTc0YzZiMmEzZmI0MzM2ZCA9IEwuY2lyY2xlKAogICAgICAgICAgICAgICAgWzQwLjcxMTI0MzQ0MTkxOTA0LC03My43NTkyNTAwOTMzNTU5NF0sCiAgICAgICAgICAgICAgICB7CiAgImJ1YmJsaW5nTW91c2VFdmVudHMiOiB0cnVlLAogICJjb2xvciI6ICJyZWQiLAogICJkYXNoQXJyYXkiOiBudWxsLAogICJkYXNoT2Zmc2V0IjogbnVsbCwKICAiZmlsbCI6IHRydWUsCiAgImZpbGxDb2xvciI6ICIjZmY2YjM3IiwKICAiZmlsbE9wYWNpdHkiOiAwLjcsCiAgImZpbGxSdWxlIjogImV2ZW5vZGQiLAogICJsaW5lQ2FwIjogInJvdW5kIiwKICAibGluZUpvaW4iOiAicm91bmQiLAogICJvcGFjaXR5IjogMS4wLAogICJyYWRpdXMiOiA3NTAsCiAgInN0cm9rZSI6IHRydWUsCiAgIndlaWdodCI6IDMKfQogICAgICAgICAgICAgICAgKS5hZGRUbyhtYXBfZTU0M2I2NTU5NjAwNDY3NmE5YTFkMDVlNmU0ZDc0ZjQpOwogICAgICAgICAgICAKICAgIAogICAgICAgICAgICB2YXIgcG9wdXBfNDkyODQ5MmFkMWFjNDc3NmIzOWUyM2MxNzY2OGE4NWUgPSBMLnBvcHVwKHttYXhXaWR0aDogJzMwMCd9KTsKCiAgICAgICAgICAgIAogICAgICAgICAgICAgICAgdmFyIGh0bWxfYjBkMGI1Mzg1ODU2NGJjNTg5YTUxZWJkNWFkMjM2ZjEgPSAkKCc8ZGl2IGlkPSJodG1sX2IwZDBiNTM4NTg1NjRiYzU4OWE1MWViZDVhZDIzNmYxIiBzdHlsZT0id2lkdGg6IDEwMC4wJTsgaGVpZ2h0OiAxMDAuMCU7Ij5Ib2xsaXMgQ2x1c3RlciA0NDwvZGl2PicpWzBdOwogICAgICAgICAgICAgICAgcG9wdXBfNDkyODQ5MmFkMWFjNDc3NmIzOWUyM2MxNzY2OGE4NWUuc2V0Q29udGVudChodG1sX2IwZDBiNTM4NTg1NjRiYzU4OWE1MWViZDVhZDIzNmYxKTsKICAgICAgICAgICAgCgogICAgICAgICAgICBjaXJjbGVfMDE4OTFkZmY4NzBiNDM3Nzk3NGM2YjJhM2ZiNDMzNmQuYmluZFBvcHVwKHBvcHVwXzQ5Mjg0OTJhZDFhYzQ3NzZiMzllMjNjMTc2NjhhODVlKTsKCiAgICAgICAgICAgIAogICAgICAgIAogICAgCgogICAgICAgICAgICB2YXIgY2lyY2xlX2U4ZTQwMDI0ODQwODRjNzA5NDA2NmQ1ZTA3YjMyZmUyID0gTC5jaXJjbGUoCiAgICAgICAgICAgICAgICBbNDAuNjk2OTExMjUzNzg5ODg1LC03My43OTA0MjYxMzEzNTU0XSwKICAgICAgICAgICAgICAgIHsKICAiYnViYmxpbmdNb3VzZUV2ZW50cyI6IHRydWUsCiAgImNvbG9yIjogInJlZCIsCiAgImRhc2hBcnJheSI6IG51bGwsCiAgImRhc2hPZmZzZXQiOiBudWxsLAogICJmaWxsIjogdHJ1ZSwKICAiZmlsbENvbG9yIjogIiNmZjZiMzciLAogICJmaWxsT3BhY2l0eSI6IDAuNywKICAiZmlsbFJ1bGUiOiAiZXZlbm9kZCIsCiAgImxpbmVDYXAiOiAicm91bmQiLAogICJsaW5lSm9pbiI6ICJyb3VuZCIsCiAgIm9wYWNpdHkiOiAxLjAsCiAgInJhZGl1cyI6IDc1MCwKICAic3Ryb2tlIjogdHJ1ZSwKICAid2VpZ2h0IjogMwp9CiAgICAgICAgICAgICAgICApLmFkZFRvKG1hcF9lNTQzYjY1NTk2MDA0Njc2YTlhMWQwNWU2ZTRkNzRmNCk7CiAgICAgICAgICAgIAogICAgCiAgICAgICAgICAgIHZhciBwb3B1cF8xYTU5ZTUzOTM4MzY0ZmJmODMzMjY1MWQ0ZTViZDU2OSA9IEwucG9wdXAoe21heFdpZHRoOiAnMzAwJ30pOwoKICAgICAgICAgICAgCiAgICAgICAgICAgICAgICB2YXIgaHRtbF82ZDVhNTA0MWVmNGY0NTg3YTk5NmIwM2QzYWZmNzExMyA9ICQoJzxkaXYgaWQ9Imh0bWxfNmQ1YTUwNDFlZjRmNDU4N2E5OTZiMDNkM2FmZjcxMTMiIHN0eWxlPSJ3aWR0aDogMTAwLjAlOyBoZWlnaHQ6IDEwMC4wJTsiPlNvdXRoIEphbWFpY2EgQ2x1c3RlciA0NDwvZGl2PicpWzBdOwogICAgICAgICAgICAgICAgcG9wdXBfMWE1OWU1MzkzODM2NGZiZjgzMzI2NTFkNGU1YmQ1Njkuc2V0Q29udGVudChodG1sXzZkNWE1MDQxZWY0ZjQ1ODdhOTk2YjAzZDNhZmY3MTEzKTsKICAgICAgICAgICAgCgogICAgICAgICAgICBjaXJjbGVfZThlNDAwMjQ4NDA4NGM3MDk0MDY2ZDVlMDdiMzJmZTIuYmluZFBvcHVwKHBvcHVwXzFhNTllNTM5MzgzNjRmYmY4MzMyNjUxZDRlNWJkNTY5KTsKCiAgICAgICAgICAgIAogICAgICAgIAogICAgCgogICAgICAgICAgICB2YXIgY2lyY2xlXzllMmNhMWViYzg3NTQ5OTFiZDYwNjM4Mjg4MTIyNTU5ID0gTC5jaXJjbGUoCiAgICAgICAgICAgICAgICBbNDAuNjYzOTE4NDE5MjUxMzksLTczLjg0OTYzNzgyNDAyNDQxXSwKICAgICAgICAgICAgICAgIHsKICAiYnViYmxpbmdNb3VzZUV2ZW50cyI6IHRydWUsCiAgImNvbG9yIjogInJlZCIsCiAgImRhc2hBcnJheSI6IG51bGwsCiAgImRhc2hPZmZzZXQiOiBudWxsLAogICJmaWxsIjogdHJ1ZSwKICAiZmlsbENvbG9yIjogIiNmZjZiMzciLAogICJmaWxsT3BhY2l0eSI6IDAuNywKICAiZmlsbFJ1bGUiOiAiZXZlbm9kZCIsCiAgImxpbmVDYXAiOiAicm91bmQiLAogICJsaW5lSm9pbiI6ICJyb3VuZCIsCiAgIm9wYWNpdHkiOiAxLjAsCiAgInJhZGl1cyI6IDc1MCwKICAic3Ryb2tlIjogdHJ1ZSwKICAid2VpZ2h0IjogMwp9CiAgICAgICAgICAgICAgICApLmFkZFRvKG1hcF9lNTQzYjY1NTk2MDA0Njc2YTlhMWQwNWU2ZTRkNzRmNCk7CiAgICAgICAgICAgIAogICAgCiAgICAgICAgICAgIHZhciBwb3B1cF9hMTA5MDY2MjFjZTY0ZDhjOGRkMDQ1OGM0ZDQ0OGQwMiA9IEwucG9wdXAoe21heFdpZHRoOiAnMzAwJ30pOwoKICAgICAgICAgICAgCiAgICAgICAgICAgICAgICB2YXIgaHRtbF85MWRmZjJmYjQwNGU0NzE1OTRmNTM0NWE2YTQwNzU5ZiA9ICQoJzxkaXYgaWQ9Imh0bWxfOTFkZmYyZmI0MDRlNDcxNTk0ZjUzNDVhNmE0MDc1OWYiIHN0eWxlPSJ3aWR0aDogMTAwLjAlOyBoZWlnaHQ6IDEwMC4wJTsiPkxpbmRlbndvb2QgQ2x1c3RlciA0NDwvZGl2PicpWzBdOwogICAgICAgICAgICAgICAgcG9wdXBfYTEwOTA2NjIxY2U2NGQ4YzhkZDA0NThjNGQ0NDhkMDIuc2V0Q29udGVudChodG1sXzkxZGZmMmZiNDA0ZTQ3MTU5NGY1MzQ1YTZhNDA3NTlmKTsKICAgICAgICAgICAgCgogICAgICAgICAgICBjaXJjbGVfOWUyY2ExZWJjODc1NDk5MWJkNjA2MzgyODgxMjI1NTkuYmluZFBvcHVwKHBvcHVwX2ExMDkwNjYyMWNlNjRkOGM4ZGQwNDU4YzRkNDQ4ZDAyKTsKCiAgICAgICAgICAgIAogICAgICAgIAogICAgCgogICAgICAgICAgICB2YXIgY2lyY2xlX2U5ODc2NzUyNjg5ZDQwODRhYzI3N2QyNWMwYTYyMTljID0gTC5jaXJjbGUoCiAgICAgICAgICAgICAgICBbNDAuNjU1NTcyMzEzMjgwNzY0LC03My45MjY4ODIxMjYxNjk1NV0sCiAgICAgICAgICAgICAgICB7CiAgImJ1YmJsaW5nTW91c2VFdmVudHMiOiB0cnVlLAogICJjb2xvciI6ICJyZWQiLAogICJkYXNoQXJyYXkiOiBudWxsLAogICJkYXNoT2Zmc2V0IjogbnVsbCwKICAiZmlsbCI6IHRydWUsCiAgImZpbGxDb2xvciI6ICIjZmY2YjM3IiwKICAiZmlsbE9wYWNpdHkiOiAwLjcsCiAgImZpbGxSdWxlIjogImV2ZW5vZGQiLAogICJsaW5lQ2FwIjogInJvdW5kIiwKICAibGluZUpvaW4iOiAicm91bmQiLAogICJvcGFjaXR5IjogMS4wLAogICJyYWRpdXMiOiA3NTAsCiAgInN0cm9rZSI6IHRydWUsCiAgIndlaWdodCI6IDMKfQogICAgICAgICAgICAgICAgKS5hZGRUbyhtYXBfZTU0M2I2NTU5NjAwNDY3NmE5YTFkMDVlNmU0ZDc0ZjQpOwogICAgICAgICAgICAKICAgIAogICAgICAgICAgICB2YXIgcG9wdXBfOTY1NmJjNjk4NGJkNGUyMGI5ODc2YTlkZDg5MGQyZmIgPSBMLnBvcHVwKHttYXhXaWR0aDogJzMwMCd9KTsKCiAgICAgICAgICAgIAogICAgICAgICAgICAgICAgdmFyIGh0bWxfMjkwYzBlMWUzYmZlNGNkZWFmMDZiMmJmYzVhNjczNmMgPSAkKCc8ZGl2IGlkPSJodG1sXzI5MGMwZTFlM2JmZTRjZGVhZjA2YjJiZmM1YTY3MzZjIiBzdHlsZT0id2lkdGg6IDEwMC4wJTsgaGVpZ2h0OiAxMDAuMCU7Ij5SdWdieSBDbHVzdGVyIDQ0PC9kaXY+JylbMF07CiAgICAgICAgICAgICAgICBwb3B1cF85NjU2YmM2OTg0YmQ0ZTIwYjk4NzZhOWRkODkwZDJmYi5zZXRDb250ZW50KGh0bWxfMjkwYzBlMWUzYmZlNGNkZWFmMDZiMmJmYzVhNjczNmMpOwogICAgICAgICAgICAKCiAgICAgICAgICAgIGNpcmNsZV9lOTg3Njc1MjY4OWQ0MDg0YWMyNzdkMjVjMGE2MjE5Yy5iaW5kUG9wdXAocG9wdXBfOTY1NmJjNjk4NGJkNGUyMGI5ODc2YTlkZDg5MGQyZmIpOwoKICAgICAgICAgICAgCiAgICAgICAgCiAgICAKCiAgICAgICAgICAgIHZhciBjaXJjbGVfZDY2OGI1NGE1YzJmNDBkYWE3Zjk4MTY3YzE2ZTA5ZTggPSBMLmNpcmNsZSgKICAgICAgICAgICAgICAgIFs0MC43MzQ5MzYxODA3NTQ3OCwtNzMuODA0ODYxMjAwNDA1MzddLAogICAgICAgICAgICAgICAgewogICJidWJibGluZ01vdXNlRXZlbnRzIjogdHJ1ZSwKICAiY29sb3IiOiAicmVkIiwKICAiZGFzaEFycmF5IjogbnVsbCwKICAiZGFzaE9mZnNldCI6IG51bGwsCiAgImZpbGwiOiB0cnVlLAogICJmaWxsQ29sb3IiOiAiI2ZmNmIzNyIsCiAgImZpbGxPcGFjaXR5IjogMC43LAogICJmaWxsUnVsZSI6ICJldmVub2RkIiwKICAibGluZUNhcCI6ICJyb3VuZCIsCiAgImxpbmVKb2luIjogInJvdW5kIiwKICAib3BhY2l0eSI6IDEuMCwKICAicmFkaXVzIjogNzUwLAogICJzdHJva2UiOiB0cnVlLAogICJ3ZWlnaHQiOiAzCn0KICAgICAgICAgICAgICAgICkuYWRkVG8obWFwX2U1NDNiNjU1OTYwMDQ2NzZhOWExZDA1ZTZlNGQ3NGY0KTsKICAgICAgICAgICAgCiAgICAKICAgICAgICAgICAgdmFyIHBvcHVwX2EyNDg2MDdkMTk0NzRjYTk4N2Q5NGViMzdkMzVjZWE4ID0gTC5wb3B1cCh7bWF4V2lkdGg6ICczMDAnfSk7CgogICAgICAgICAgICAKICAgICAgICAgICAgICAgIHZhciBodG1sX2VkNDZlMjZkM2Q3YTQyMDVhZWQ3OGM0NzkzZmNlNTRhID0gJCgnPGRpdiBpZD0iaHRtbF9lZDQ2ZTI2ZDNkN2E0MjA1YWVkNzhjNDc5M2ZjZTU0YSIgc3R5bGU9IndpZHRoOiAxMDAuMCU7IGhlaWdodDogMTAwLjAlOyI+UG9tb25vayBDbHVzdGVyIDQ0PC9kaXY+JylbMF07CiAgICAgICAgICAgICAgICBwb3B1cF9hMjQ4NjA3ZDE5NDc0Y2E5ODdkOTRlYjM3ZDM1Y2VhOC5zZXRDb250ZW50KGh0bWxfZWQ0NmUyNmQzZDdhNDIwNWFlZDc4YzQ3OTNmY2U1NGEpOwogICAgICAgICAgICAKCiAgICAgICAgICAgIGNpcmNsZV9kNjY4YjU0YTVjMmY0MGRhYTdmOTgxNjdjMTZlMDllOC5iaW5kUG9wdXAocG9wdXBfYTI0ODYwN2QxOTQ3NGNhOTg3ZDk0ZWIzN2QzNWNlYTgpOwoKICAgICAgICAgICAgCiAgICAgICAgCiAgICAKCiAgICAgICAgICAgIHZhciBjaXJjbGVfNWE0ZDVmODdkMGU4NGQwM2I0YzIwMDQ4MzRmY2YxZGMgPSBMLmNpcmNsZSgKICAgICAgICAgICAgICAgIFs0MC44MzE0MjgzNDE2MTU0OCwtNzMuOTAxMTk5MDMzODc2NjddLAogICAgICAgICAgICAgICAgewogICJidWJibGluZ01vdXNlRXZlbnRzIjogdHJ1ZSwKICAiY29sb3IiOiAicmVkIiwKICAiZGFzaEFycmF5IjogbnVsbCwKICAiZGFzaE9mZnNldCI6IG51bGwsCiAgImZpbGwiOiB0cnVlLAogICJmaWxsQ29sb3IiOiAiI2ZmNmIzNyIsCiAgImZpbGxPcGFjaXR5IjogMC43LAogICJmaWxsUnVsZSI6ICJldmVub2RkIiwKICAibGluZUNhcCI6ICJyb3VuZCIsCiAgImxpbmVKb2luIjogInJvdW5kIiwKICAib3BhY2l0eSI6IDEuMCwKICAicmFkaXVzIjogNzUwLAogICJzdHJva2UiOiB0cnVlLAogICJ3ZWlnaHQiOiAzCn0KICAgICAgICAgICAgICAgICkuYWRkVG8obWFwX2U1NDNiNjU1OTYwMDQ2NzZhOWExZDA1ZTZlNGQ3NGY0KTsKICAgICAgICAgICAgCiAgICAKICAgICAgICAgICAgdmFyIHBvcHVwXzU2NWY0N2Q0ZTBhNDQ5MTM5NTA3ZjVkMTZhOGQ2ZGJkID0gTC5wb3B1cCh7bWF4V2lkdGg6ICczMDAnfSk7CgogICAgICAgICAgICAKICAgICAgICAgICAgICAgIHZhciBodG1sXzExM2NmZDgwZDU4NjQwMTE5ZjQ5ZDdjY2I2YjE0ZDA2ID0gJCgnPGRpdiBpZD0iaHRtbF8xMTNjZmQ4MGQ1ODY0MDExOWY0OWQ3Y2NiNmIxNGQwNiIgc3R5bGU9IndpZHRoOiAxMDAuMCU7IGhlaWdodDogMTAwLjAlOyI+Q2xhcmVtb250IFZpbGxhZ2UgQ2x1c3RlciA0NDwvZGl2PicpWzBdOwogICAgICAgICAgICAgICAgcG9wdXBfNTY1ZjQ3ZDRlMGE0NDkxMzk1MDdmNWQxNmE4ZDZkYmQuc2V0Q29udGVudChodG1sXzExM2NmZDgwZDU4NjQwMTE5ZjQ5ZDdjY2I2YjE0ZDA2KTsKICAgICAgICAgICAgCgogICAgICAgICAgICBjaXJjbGVfNWE0ZDVmODdkMGU4NGQwM2I0YzIwMDQ4MzRmY2YxZGMuYmluZFBvcHVwKHBvcHVwXzU2NWY0N2Q0ZTBhNDQ5MTM5NTA3ZjVkMTZhOGQ2ZGJkKTsKCiAgICAgICAgICAgIAogICAgICAgIAogICAgCgogICAgICAgICAgICB2YXIgY2lyY2xlX2Q0MTQxZGFmZGM3ZTQ4ZGY5NGI1OGY1NzM5YWU5NTIxID0gTC5jaXJjbGUoCiAgICAgICAgICAgICAgICBbNDAuNjc1MDM5ODY1MDMyMzcsLTczLjkzMDUzMTA4ODE3MzM4XSwKICAgICAgICAgICAgICAgIHsKICAiYnViYmxpbmdNb3VzZUV2ZW50cyI6IHRydWUsCiAgImNvbG9yIjogInJlZCIsCiAgImRhc2hBcnJheSI6IG51bGwsCiAgImRhc2hPZmZzZXQiOiBudWxsLAogICJmaWxsIjogdHJ1ZSwKICAiZmlsbENvbG9yIjogIiNmZjZiMzciLAogICJmaWxsT3BhY2l0eSI6IDAuNywKICAiZmlsbFJ1bGUiOiAiZXZlbm9kZCIsCiAgImxpbmVDYXAiOiAicm91bmQiLAogICJsaW5lSm9pbiI6ICJyb3VuZCIsCiAgIm9wYWNpdHkiOiAxLjAsCiAgInJhZGl1cyI6IDc1MCwKICAic3Ryb2tlIjogdHJ1ZSwKICAid2VpZ2h0IjogMwp9CiAgICAgICAgICAgICAgICApLmFkZFRvKG1hcF9lNTQzYjY1NTk2MDA0Njc2YTlhMWQwNWU2ZTRkNzRmNCk7CiAgICAgICAgICAgIAogICAgCiAgICAgICAgICAgIHZhciBwb3B1cF80NGMxZTM1ZDU1N2M0ODRjOTA4OWQ4ZGIzZDZlZmE5NiA9IEwucG9wdXAoe21heFdpZHRoOiAnMzAwJ30pOwoKICAgICAgICAgICAgCiAgICAgICAgICAgICAgICB2YXIgaHRtbF9mNzUyZjU4ZTQ2Njk0NThmOGU4YTRlMzM1MjRiNjU1NiA9ICQoJzxkaXYgaWQ9Imh0bWxfZjc1MmY1OGU0NjY5NDU4ZjhlOGE0ZTMzNTI0YjY1NTYiIHN0eWxlPSJ3aWR0aDogMTAwLjAlOyBoZWlnaHQ6IDEwMC4wJTsiPldlZWtzdmlsbGUgQ2x1c3RlciA0NDwvZGl2PicpWzBdOwogICAgICAgICAgICAgICAgcG9wdXBfNDRjMWUzNWQ1NTdjNDg0YzkwODlkOGRiM2Q2ZWZhOTYuc2V0Q29udGVudChodG1sX2Y3NTJmNThlNDY2OTQ1OGY4ZThhNGUzMzUyNGI2NTU2KTsKICAgICAgICAgICAgCgogICAgICAgICAgICBjaXJjbGVfZDQxNDFkYWZkYzdlNDhkZjk0YjU4ZjU3MzlhZTk1MjEuYmluZFBvcHVwKHBvcHVwXzQ0YzFlMzVkNTU3YzQ4NGM5MDg5ZDhkYjNkNmVmYTk2KTsKCiAgICAgICAgICAgIAogICAgICAgIAogICAgCgogICAgICAgICAgICB2YXIgY2lyY2xlXzMwNmEwM2RjODdkODQyMzBiNGQ4ZGVkZTk5MDk1YWYwID0gTC5jaXJjbGUoCiAgICAgICAgICAgICAgICBbNDAuNzE2NDE0NTExMTU4MTg1LC03My44ODExNDMxOTIwMDYwNF0sCiAgICAgICAgICAgICAgICB7CiAgImJ1YmJsaW5nTW91c2VFdmVudHMiOiB0cnVlLAogICJjb2xvciI6ICJyZWQiLAogICJkYXNoQXJyYXkiOiBudWxsLAogICJkYXNoT2Zmc2V0IjogbnVsbCwKICAiZmlsbCI6IHRydWUsCiAgImZpbGxDb2xvciI6ICIjZmY2YjM3IiwKICAiZmlsbE9wYWNpdHkiOiAwLjcsCiAgImZpbGxSdWxlIjogImV2ZW5vZGQiLAogICJsaW5lQ2FwIjogInJvdW5kIiwKICAibGluZUpvaW4iOiAicm91bmQiLAogICJvcGFjaXR5IjogMS4wLAogICJyYWRpdXMiOiA3NTAsCiAgInN0cm9rZSI6IHRydWUsCiAgIndlaWdodCI6IDMKfQogICAgICAgICAgICAgICAgKS5hZGRUbyhtYXBfZTU0M2I2NTU5NjAwNDY3NmE5YTFkMDVlNmU0ZDc0ZjQpOwogICAgICAgICAgICAKICAgIAogICAgICAgICAgICB2YXIgcG9wdXBfMmI1ZmRhMDM5NTkwNDM0YTg0MWQ0ZTlhMzQ4MDJkZjIgPSBMLnBvcHVwKHttYXhXaWR0aDogJzMwMCd9KTsKCiAgICAgICAgICAgIAogICAgICAgICAgICAgICAgdmFyIGh0bWxfNzNkMDlkYzIxYzAzNDkyZGFhN2UwZTRiYjNiMGQ0ZDggPSAkKCc8ZGl2IGlkPSJodG1sXzczZDA5ZGMyMWMwMzQ5MmRhYTdlMGU0YmIzYjBkNGQ4IiBzdHlsZT0id2lkdGg6IDEwMC4wJTsgaGVpZ2h0OiAxMDAuMCU7Ij5NaWRkbGUgVmlsbGFnZSBDbHVzdGVyIDQ0PC9kaXY+JylbMF07CiAgICAgICAgICAgICAgICBwb3B1cF8yYjVmZGEwMzk1OTA0MzRhODQxZDRlOWEzNDgwMmRmMi5zZXRDb250ZW50KGh0bWxfNzNkMDlkYzIxYzAzNDkyZGFhN2UwZTRiYjNiMGQ0ZDgpOwogICAgICAgICAgICAKCiAgICAgICAgICAgIGNpcmNsZV8zMDZhMDNkYzg3ZDg0MjMwYjRkOGRlZGU5OTA5NWFmMC5iaW5kUG9wdXAocG9wdXBfMmI1ZmRhMDM5NTkwNDM0YTg0MWQ0ZTlhMzQ4MDJkZjIpOwoKICAgICAgICAgICAgCiAgICAgICAgCiAgICAKCiAgICAgICAgICAgIHZhciBjaXJjbGVfODFlOGUwNjU5YTdmNDUyODlkMGFlN2E2YTcwY2Y3N2UgPSBMLmNpcmNsZSgKICAgICAgICAgICAgICAgIFs1LjQxNDU2ODEsMTAwLjMyOTgwMzVdLAogICAgICAgICAgICAgICAgewogICJidWJibGluZ01vdXNlRXZlbnRzIjogdHJ1ZSwKICAiY29sb3IiOiAicmVkIiwKICAiZGFzaEFycmF5IjogbnVsbCwKICAiZGFzaE9mZnNldCI6IG51bGwsCiAgImZpbGwiOiB0cnVlLAogICJmaWxsQ29sb3IiOiAiI2ZmNmIzNyIsCiAgImZpbGxPcGFjaXR5IjogMC43LAogICJmaWxsUnVsZSI6ICJldmVub2RkIiwKICAibGluZUNhcCI6ICJyb3VuZCIsCiAgImxpbmVKb2luIjogInJvdW5kIiwKICAib3BhY2l0eSI6IDEuMCwKICAicmFkaXVzIjogNzUwLAogICJzdHJva2UiOiB0cnVlLAogICJ3ZWlnaHQiOiAzCn0KICAgICAgICAgICAgICAgICkuYWRkVG8obWFwX2U1NDNiNjU1OTYwMDQ2NzZhOWExZDA1ZTZlNGQ3NGY0KTsKICAgICAgICAgICAgCiAgICAKICAgICAgICAgICAgdmFyIHBvcHVwX2Y1ZTE1NWQ5YzIxYTQ3OTA4M2YwODY3YTI2ZGNjZmMxID0gTC5wb3B1cCh7bWF4V2lkdGg6ICczMDAnfSk7CgogICAgICAgICAgICAKICAgICAgICAgICAgICAgIHZhciBodG1sXzEyN2EyNDdjM2E0NjRhZmJiMjhmMjIyNjQ4NDYyYTVmID0gJCgnPGRpdiBpZD0iaHRtbF8xMjdhMjQ3YzNhNDY0YWZiYjI4ZjIyMjY0ODQ2MmE1ZiIgc3R5bGU9IndpZHRoOiAxMDAuMCU7IGhlaWdodDogMTAwLjAlOyI+Z2VvcmdldG93biwgcGVuYW5nLCBtYWxheXNpYSBDbHVzdGVyIDQ0PC9kaXY+JylbMF07CiAgICAgICAgICAgICAgICBwb3B1cF9mNWUxNTVkOWMyMWE0NzkwODNmMDg2N2EyNmRjY2ZjMS5zZXRDb250ZW50KGh0bWxfMTI3YTI0N2MzYTQ2NGFmYmIyOGYyMjI2NDg0NjJhNWYpOwogICAgICAgICAgICAKCiAgICAgICAgICAgIGNpcmNsZV84MWU4ZTA2NTlhN2Y0NTI4OWQwYWU3YTZhNzBjZjc3ZS5iaW5kUG9wdXAocG9wdXBfZjVlMTU1ZDljMjFhNDc5MDgzZjA4NjdhMjZkY2NmYzEpOwoKICAgICAgICAgICAgCiAgICAgICAgCjwvc2NyaXB0Pg==\" style=\"position:absolute;width:100%;height:100%;left:0;top:0;border:none !important;\" allowfullscreen webkitallowfullscreen mozallowfullscreen></iframe></div></div>", 
                        "text/plain": "<folium.folium.Map at 0x7fb78aa83278>"
                    }, 
                    "output_type": "execute_result"
                }
            ], 
            "source": "# create map\nmap_clusters = folium.Map(location=[latitude, longitude], zoom_start=11)\n\n# set color scheme for the clusters\nx = np.arange(kclusters+1)\nys = [i + x + (i*x)**2 for i in range(kclusters+1)]\ncolors_array = cm.rainbow(np.linspace(0, 1, len(ys)))\nrainbow = [colors.rgb2hex(i) for i in colors_array]\n\n# add markers to the map\nmarkers_colors = []\nfor lat, lon, poi, cluster in zip(manhattan_merged['Latitude'], manhattan_merged['Longitude'], manhattan_merged['Neighborhood'], manhattan_merged['Cluster Labels']):\n\n    # no data from help so all the NaN neighbourhoods will be allocated to cluster 6\n    if cluster != cluster:\n        cluster = 6\n    else: cluster = int(cluster)\n    \n    label = folium.Popup(str(poi) + ' Cluster ' + str(cluster), parse_html=True)\n    folium.Circle(\n        [lat, lon],\n        radius=radius,\n        popup=label,\n        #color=rainbow[cluster-1],\n        color='red',\n        fill=True,\n        fill_color=rainbow[cluster-1],\n        fill_opacity=0.7).add_to(map_clusters)\n       \nmap_clusters"
        }, 
        {
            "execution_count": 23, 
            "cell_type": "code", 
            "metadata": {
                "scrolled": true
            }, 
            "outputs": [
                {
                    "execution_count": 23, 
                    "metadata": {}, 
                    "data": {
                        "text/html": "<div>\n<style scoped>\n    .dataframe tbody tr th:only-of-type {\n        vertical-align: middle;\n    }\n\n    .dataframe tbody tr th {\n        vertical-align: top;\n    }\n\n    .dataframe thead th {\n        text-align: right;\n    }\n</style>\n<table border=\"1\" class=\"dataframe\">\n  <thead>\n    <tr style=\"text-align: right;\">\n      <th></th>\n      <th>Neighborhood</th>\n      <th>1st Most Common Venue</th>\n      <th>2nd Most Common Venue</th>\n      <th>3rd Most Common Venue</th>\n      <th>4th Most Common Venue</th>\n      <th>5th Most Common Venue</th>\n      <th>6th Most Common Venue</th>\n      <th>7th Most Common Venue</th>\n      <th>8th Most Common Venue</th>\n      <th>9th Most Common Venue</th>\n      <th>10th Most Common Venue</th>\n    </tr>\n  </thead>\n  <tbody>\n    <tr>\n      <th>47</th>\n      <td>Bensonhurst</td>\n      <td>Chinese</td>\n      <td>Pizza</td>\n      <td>Italian</td>\n      <td>Deli / Bodega</td>\n      <td>Sushi</td>\n      <td>Donuts</td>\n      <td>Asian</td>\n      <td>Bakery</td>\n      <td>Russian</td>\n      <td>Noodles</td>\n    </tr>\n    <tr>\n      <th>56</th>\n      <td>East Flatbush</td>\n      <td>Chinese</td>\n      <td>Food</td>\n      <td>Fast Food</td>\n      <td>Deli / Bodega</td>\n      <td>Caribbean</td>\n      <td>Bakery</td>\n      <td>Food Court</td>\n      <td>Fish &amp; Chips</td>\n      <td>Filipino</td>\n      <td>Wings</td>\n    </tr>\n    <tr>\n      <th>100</th>\n      <td>Chinatown</td>\n      <td>Chinese</td>\n      <td>Dumplings</td>\n      <td>Vietnamese</td>\n      <td>Bakery</td>\n      <td>Dim Sum</td>\n      <td>Mexican</td>\n      <td>Hotpot</td>\n      <td>Noodles</td>\n      <td>Sandwiches</td>\n      <td>American</td>\n    </tr>\n    <tr>\n      <th>136</th>\n      <td>Kew Gardens</td>\n      <td>Chinese</td>\n      <td>Deli / Bodega</td>\n      <td>Bakery</td>\n      <td>Pizza</td>\n      <td>Donuts</td>\n      <td>Indian</td>\n      <td>Asian</td>\n      <td>Sushi</td>\n      <td>Italian</td>\n      <td>Fried Chicken</td>\n    </tr>\n    <tr>\n      <th>145</th>\n      <td>Rego Park</td>\n      <td>Chinese</td>\n      <td>Bakery</td>\n      <td>Japanese</td>\n      <td>Donuts</td>\n      <td>Pizza</td>\n      <td>Sandwiches</td>\n      <td>Restaurant</td>\n      <td>Peruvian</td>\n      <td>Sushi</td>\n      <td>Bagels</td>\n    </tr>\n    <tr>\n      <th>163</th>\n      <td>Hollis</td>\n      <td>Bakery</td>\n      <td>Fried Chicken</td>\n      <td>Sandwiches</td>\n      <td>Food</td>\n      <td>Asian</td>\n      <td>Fast Food</td>\n      <td>Chinese</td>\n      <td>Wings</td>\n      <td>Fish &amp; Chips</td>\n      <td>Filipino</td>\n    </tr>\n    <tr>\n      <th>164</th>\n      <td>South Jamaica</td>\n      <td>Deli / Bodega</td>\n      <td>Pizza</td>\n      <td>Donuts</td>\n      <td>Caribbean</td>\n      <td>Bakery</td>\n      <td>Chinese</td>\n      <td>Sandwiches</td>\n      <td>Vegetarian / Vegan</td>\n      <td>Egyptian Restaurant</td>\n      <td>Empanada</td>\n    </tr>\n    <tr>\n      <th>187</th>\n      <td>Lindenwood</td>\n      <td>Donuts</td>\n      <td>Bakery</td>\n      <td>Japanese</td>\n      <td>Deli / Bodega</td>\n      <td>Pizza</td>\n      <td>Chinese</td>\n      <td>Food</td>\n      <td>Fish &amp; Chips</td>\n      <td>Filipino</td>\n      <td>Fast Food</td>\n    </tr>\n    <tr>\n      <th>223</th>\n      <td>Rugby</td>\n      <td>Chinese</td>\n      <td>Caribbean</td>\n      <td>Bakery</td>\n      <td>Seafood</td>\n      <td>Deli / Bodega</td>\n      <td>Restaurant</td>\n      <td>Pizza</td>\n      <td>Sandwiches</td>\n      <td>Fast Food</td>\n      <td>Food</td>\n    </tr>\n    <tr>\n      <th>265</th>\n      <td>Pomonok</td>\n      <td>Chinese</td>\n      <td>American</td>\n      <td>Japanese</td>\n      <td>Pizza</td>\n      <td>Halal</td>\n      <td>Bakery</td>\n      <td>Wings</td>\n      <td>Food Court</td>\n      <td>Food</td>\n      <td>Fish &amp; Chips</td>\n    </tr>\n    <tr>\n      <th>267</th>\n      <td>Claremont Village</td>\n      <td>Chinese</td>\n      <td>Food</td>\n      <td>Bakery</td>\n      <td>Deli / Bodega</td>\n      <td>Pizza</td>\n      <td>Restaurant</td>\n      <td>Fried Chicken</td>\n      <td>Caribbean</td>\n      <td>Falafel</td>\n      <td>Fish &amp; Chips</td>\n    </tr>\n    <tr>\n      <th>281</th>\n      <td>Weeksville</td>\n      <td>Chinese</td>\n      <td>Deli / Bodega</td>\n      <td>Caf\u00e9</td>\n      <td>American</td>\n      <td>Bakery</td>\n      <td>Donuts</td>\n      <td>Diner</td>\n      <td>Fried Chicken</td>\n      <td>Caribbean</td>\n      <td>Food Truck</td>\n    </tr>\n    <tr>\n      <th>290</th>\n      <td>Middle Village</td>\n      <td>Bakery</td>\n      <td>Chinese</td>\n      <td>Pizza</td>\n      <td>South American</td>\n      <td>Sushi</td>\n      <td>Sandwiches</td>\n      <td>Diner</td>\n      <td>Japanese</td>\n      <td>Italian</td>\n      <td>Deli / Bodega</td>\n    </tr>\n    <tr>\n      <th>306</th>\n      <td>georgetown, penang, malaysia</td>\n      <td>Vegetarian / Vegan</td>\n      <td>Chinese</td>\n      <td>Bakery</td>\n      <td>Noodles</td>\n      <td>Caf\u00e9</td>\n      <td>Food Court</td>\n      <td>Food Truck</td>\n      <td>Dim Sum</td>\n      <td>Breakfast</td>\n      <td>Restaurant</td>\n    </tr>\n  </tbody>\n</table>\n</div>", 
                        "text/plain": "                     Neighborhood 1st Most Common Venue 2nd Most Common Venue  \\\n47                    Bensonhurst               Chinese                 Pizza   \n56                  East Flatbush               Chinese                  Food   \n100                     Chinatown               Chinese             Dumplings   \n136                   Kew Gardens               Chinese         Deli / Bodega   \n145                     Rego Park               Chinese                Bakery   \n163                        Hollis                Bakery         Fried Chicken   \n164                 South Jamaica         Deli / Bodega                 Pizza   \n187                    Lindenwood                Donuts                Bakery   \n223                         Rugby               Chinese             Caribbean   \n265                       Pomonok               Chinese              American   \n267             Claremont Village               Chinese                  Food   \n281                    Weeksville               Chinese         Deli / Bodega   \n290                Middle Village                Bakery               Chinese   \n306  georgetown, penang, malaysia    Vegetarian / Vegan               Chinese   \n\n    3rd Most Common Venue 4th Most Common Venue 5th Most Common Venue  \\\n47                Italian         Deli / Bodega                 Sushi   \n56              Fast Food         Deli / Bodega             Caribbean   \n100            Vietnamese                Bakery               Dim Sum   \n136                Bakery                 Pizza                Donuts   \n145              Japanese                Donuts                 Pizza   \n163            Sandwiches                  Food                 Asian   \n164                Donuts             Caribbean                Bakery   \n187              Japanese         Deli / Bodega                 Pizza   \n223                Bakery               Seafood         Deli / Bodega   \n265              Japanese                 Pizza                 Halal   \n267                Bakery         Deli / Bodega                 Pizza   \n281                  Caf\u00e9              American                Bakery   \n290                 Pizza        South American                 Sushi   \n306                Bakery               Noodles                  Caf\u00e9   \n\n    6th Most Common Venue 7th Most Common Venue 8th Most Common Venue  \\\n47                 Donuts                 Asian                Bakery   \n56                 Bakery            Food Court          Fish & Chips   \n100               Mexican                Hotpot               Noodles   \n136                Indian                 Asian                 Sushi   \n145            Sandwiches            Restaurant              Peruvian   \n163             Fast Food               Chinese                 Wings   \n164               Chinese            Sandwiches    Vegetarian / Vegan   \n187               Chinese                  Food          Fish & Chips   \n223            Restaurant                 Pizza            Sandwiches   \n265                Bakery                 Wings            Food Court   \n267            Restaurant         Fried Chicken             Caribbean   \n281                Donuts                 Diner         Fried Chicken   \n290            Sandwiches                 Diner              Japanese   \n306            Food Court            Food Truck               Dim Sum   \n\n    9th Most Common Venue 10th Most Common Venue  \n47                Russian                Noodles  \n56               Filipino                  Wings  \n100            Sandwiches               American  \n136               Italian          Fried Chicken  \n145                 Sushi                 Bagels  \n163          Fish & Chips               Filipino  \n164   Egyptian Restaurant               Empanada  \n187              Filipino              Fast Food  \n223             Fast Food                   Food  \n265                  Food           Fish & Chips  \n267               Falafel           Fish & Chips  \n281             Caribbean             Food Truck  \n290               Italian          Deli / Bodega  \n306             Breakfast             Restaurant  "
                    }, 
                    "output_type": "execute_result"
                }
            ], 
            "source": "manhattan_merged.loc[manhattan_merged['Cluster Labels'] == Cluster, manhattan_merged.columns[[1] + list(range(5, manhattan_merged.shape[1]))]]"
        }, 
        {
            "execution_count": null, 
            "cell_type": "code", 
            "metadata": {}, 
            "outputs": [], 
            "source": ""
        }, 
        {
            "execution_count": null, 
            "cell_type": "code", 
            "metadata": {}, 
            "outputs": [], 
            "source": ""
        }, 
        {
            "execution_count": null, 
            "cell_type": "code", 
            "metadata": {}, 
            "outputs": [], 
            "source": ""
        }, 
        {
            "execution_count": null, 
            "cell_type": "code", 
            "metadata": {}, 
            "outputs": [], 
            "source": ""
        }, 
        {
            "source": "### Thank you for completing this lab!\n\nThis notebook was created by [Alex Aklson](https://www.linkedin.com/in/aklson/) and [Polong Lin](https://www.linkedin.com/in/polonglin/). I hope you found this lab interesting and educational. Feel free to contact us if you have any questions!", 
            "cell_type": "markdown", 
            "metadata": {}
        }, 
        {
            "source": "This notebook is part of a course on **Coursera** called *Applied Data Science Capstone*. If you accessed this notebook outside the course, you can take this course online by clicking [here](http://cocl.us/DP0701EN_Coursera_Week3_LAB2).", 
            "cell_type": "markdown", 
            "metadata": {}
        }, 
        {
            "source": "<hr>\n\nCopyright &copy; 2018 [Cognitive Class](https://cognitiveclass.ai/?utm_source=bducopyrightlink&utm_medium=dswb&utm_campaign=bdu). This notebook and its source code are released under the terms of the [MIT License](https://bigdatauniversity.com/mit-license/).", 
            "cell_type": "markdown", 
            "metadata": {}
        }
    ], 
    "metadata": {
        "kernelspec": {
            "display_name": "Python 3.5", 
            "name": "python3", 
            "language": "python"
        }, 
        "widgets": {
            "state": {}, 
            "version": "1.1.2"
        }, 
        "language_info": {
            "mimetype": "text/x-python", 
            "nbconvert_exporter": "python", 
            "version": "3.5.5", 
            "name": "python", 
            "file_extension": ".py", 
            "pygments_lexer": "ipython3", 
            "codemirror_mode": {
                "version": 3, 
                "name": "ipython"
            }
        }
    }, 
    "nbformat": 4
}